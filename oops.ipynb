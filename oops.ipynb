{
 "cells": [
  {
   "cell_type": "markdown",
   "id": "a1d1a1e8",
   "metadata": {},
   "source": [
    "# OOPS"
   ]
  },
  {
   "cell_type": "code",
   "execution_count": 1,
   "id": "e3a7ac32",
   "metadata": {},
   "outputs": [],
   "source": [
    "class Employee:  #init is not used because there is no object used in class or variables have already been initialized \n",
    "    id = 10\n",
    "    name=\"vamsi\"\n",
    "    def display(self):\n",
    "        print(self.id,self.name)"
   ]
  },
  {
   "cell_type": "code",
   "execution_count": 2,
   "id": "f2c5c16c",
   "metadata": {},
   "outputs": [
    {
     "name": "stdout",
     "output_type": "stream",
     "text": [
      "10 vamsi\n"
     ]
    }
   ],
   "source": [
    "emp = Employee()\n",
    "emp.display()"
   ]
  },
  {
   "cell_type": "code",
   "execution_count": 5,
   "id": "8d30e220",
   "metadata": {},
   "outputs": [],
   "source": [
    "class person(object):                 #init is a constructor which is used to define the arguments in the class\n",
    "    def __init__(self,name,id):\n",
    "        self.name=name\n",
    "        self.id = id\n",
    "    def show(self):\n",
    "        print(self.name)\n",
    "        print(self.id)"
   ]
  },
  {
   "cell_type": "code",
   "execution_count": 6,
   "id": "68163eda",
   "metadata": {},
   "outputs": [
    {
     "name": "stdout",
     "output_type": "stream",
     "text": [
      "SriVamsi\n",
      "10\n"
     ]
    }
   ],
   "source": [
    "per = person(\"SriVamsi\",10)\n",
    "per.show()"
   ]
  },
  {
   "cell_type": "code",
   "execution_count": 8,
   "id": "b63fc456",
   "metadata": {},
   "outputs": [],
   "source": [
    "class sum(object):        #init is a consructor used to define the arguments in the sum class\n",
    "    def __init__(self,a,b):\n",
    "        self.a=a\n",
    "        self.b=b\n",
    "    def sow(self):\n",
    "        print(self.a+self.b)"
   ]
  },
  {
   "cell_type": "code",
   "execution_count": 10,
   "id": "1fb67929",
   "metadata": {},
   "outputs": [
    {
     "name": "stdout",
     "output_type": "stream",
     "text": [
      "30\n"
     ]
    }
   ],
   "source": [
    "s=  sum(10,20)\n",
    "s.sow()"
   ]
  },
  {
   "cell_type": "markdown",
   "id": "39d5c3bc",
   "metadata": {},
   "source": [
    "# INHERITENCE"
   ]
  },
  {
   "cell_type": "code",
   "execution_count": 17,
   "id": "49257146",
   "metadata": {},
   "outputs": [],
   "source": [
    "class parent(object):\n",
    "    def __init__(self,name,id):\n",
    "        self.name=name\n",
    "        self.id=id\n",
    "    def showw(self):\n",
    "        print(self.name)\n",
    "        print(self.id)\n",
    "    def details(self):\n",
    "        print(\"my name  is {}\".format(self.name))\n",
    "        print(\"my id is {}\".format(self.id))\n",
    "class child(parent):\n",
    "    def __init__(self,name,id,salary,post):\n",
    "        self.salary=salary\n",
    "        self.post=post\n",
    "        \n",
    "        parent.__init__(self,name,id)\n",
    "    def details(self):\n",
    "        print(\"my name  is {}\".format(self.name))\n",
    "        print(\"my id is {}\".format(self.id))\n",
    "        print(\"my salary  is {}\".format(self.salary))\n",
    "        print(\"my post is {}\".format(self.post))\n",
    "        "
   ]
  },
  {
   "cell_type": "code",
   "execution_count": 23,
   "id": "101c4de7",
   "metadata": {},
   "outputs": [
    {
     "name": "stdout",
     "output_type": "stream",
     "text": [
      "DANDU SRIVAMSI\n",
      "19\n",
      "\n",
      "\n",
      "my name  is DANDU SRIVAMSI\n",
      "my id is 19\n",
      "\n",
      "\n",
      "my name  is Dandu Snivasa rao\n",
      "my id is 44\n",
      "my salary  is 50000\n",
      "my post is Teaher\n"
     ]
    }
   ],
   "source": [
    "par = parent(\"DANDU SRIVAMSI\",19)\n",
    "par.showw()\n",
    "print(\"\\n\")\n",
    "par.details()\n",
    "print(\"\\n\")\n",
    "chi = child(\"Dandu Snivasa rao\",44,50000,\"Teaher\")\n",
    "chi.details()"
   ]
  },
  {
   "cell_type": "code",
   "execution_count": 25,
   "id": "71364908",
   "metadata": {},
   "outputs": [
    {
     "name": "stdout",
     "output_type": "stream",
     "text": [
      "15\n",
      "the sum of 5 and 10 is15\n"
     ]
    }
   ],
   "source": [
    "x=5\n",
    "y=10\n",
    "z=x+y\n",
    "print(\"the sum of {} and {} is{}\".format(x,y,z))"
   ]
  },
  {
   "cell_type": "markdown",
   "id": "4dddb8ec",
   "metadata": {},
   "source": [
    "# ENCAPSULATION"
   ]
  },
  {
   "cell_type": "code",
   "execution_count": 32,
   "id": "10697621",
   "metadata": {},
   "outputs": [],
   "source": [
    "class abc:\n",
    "    def __init__(self):\n",
    "        self.value=0\n",
    "    def increase(self):\n",
    "        self.value+=1\n",
    "    def reset(self):\n",
    "        self.value=0\n",
    "    def disp(self):\n",
    "        return self.value"
   ]
  },
  {
   "cell_type": "code",
   "execution_count": 34,
   "id": "edea10ce",
   "metadata": {},
   "outputs": [
    {
     "name": "stdout",
     "output_type": "stream",
     "text": [
      "8\n"
     ]
    }
   ],
   "source": [
    "en = abc()\n",
    "for i in range(8):\n",
    "    en.increase()\n",
    "print(en.disp())"
   ]
  },
  {
   "cell_type": "code",
   "execution_count": null,
   "id": "0a6e9126",
   "metadata": {},
   "outputs": [],
   "source": []
  }
 ],
 "metadata": {
  "kernelspec": {
   "display_name": "Python 3 (ipykernel)",
   "language": "python",
   "name": "python3"
  },
  "language_info": {
   "codemirror_mode": {
    "name": "ipython",
    "version": 3
   },
   "file_extension": ".py",
   "mimetype": "text/x-python",
   "name": "python",
   "nbconvert_exporter": "python",
   "pygments_lexer": "ipython3",
   "version": "3.9.7"
  }
 },
 "nbformat": 4,
 "nbformat_minor": 5
}
