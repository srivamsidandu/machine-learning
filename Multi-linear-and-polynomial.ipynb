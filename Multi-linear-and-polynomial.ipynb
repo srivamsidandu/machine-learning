{
 "cells": [
  {
   "cell_type": "code",
   "execution_count": 1,
   "id": "04c1af97",
   "metadata": {},
   "outputs": [],
   "source": [
    "import os\n",
    "import pandas as pd\n",
    "import seaborn as sb\n",
    "import sklearn as sk\n",
    "import numpy as np"
   ]
  },
  {
   "cell_type": "code",
   "execution_count": 2,
   "id": "48aa9cb4",
   "metadata": {},
   "outputs": [],
   "source": [
    "data=pd.read_csv(\"C:/MLDATASETS/50_Startups.csv\")"
   ]
  },
  {
   "cell_type": "code",
   "execution_count": 3,
   "id": "5901fbfe",
   "metadata": {},
   "outputs": [
    {
     "data": {
      "text/html": [
       "<div>\n",
       "<style scoped>\n",
       "    .dataframe tbody tr th:only-of-type {\n",
       "        vertical-align: middle;\n",
       "    }\n",
       "\n",
       "    .dataframe tbody tr th {\n",
       "        vertical-align: top;\n",
       "    }\n",
       "\n",
       "    .dataframe thead th {\n",
       "        text-align: right;\n",
       "    }\n",
       "</style>\n",
       "<table border=\"1\" class=\"dataframe\">\n",
       "  <thead>\n",
       "    <tr style=\"text-align: right;\">\n",
       "      <th></th>\n",
       "      <th>R&amp;D Spend</th>\n",
       "      <th>Administration</th>\n",
       "      <th>Marketing Spend</th>\n",
       "      <th>State</th>\n",
       "      <th>Profit</th>\n",
       "    </tr>\n",
       "  </thead>\n",
       "  <tbody>\n",
       "    <tr>\n",
       "      <th>0</th>\n",
       "      <td>165349.20</td>\n",
       "      <td>136897.80</td>\n",
       "      <td>471784.10</td>\n",
       "      <td>New York</td>\n",
       "      <td>192261.83</td>\n",
       "    </tr>\n",
       "    <tr>\n",
       "      <th>1</th>\n",
       "      <td>162597.70</td>\n",
       "      <td>151377.59</td>\n",
       "      <td>443898.53</td>\n",
       "      <td>California</td>\n",
       "      <td>191792.06</td>\n",
       "    </tr>\n",
       "    <tr>\n",
       "      <th>2</th>\n",
       "      <td>153441.51</td>\n",
       "      <td>101145.55</td>\n",
       "      <td>407934.54</td>\n",
       "      <td>Florida</td>\n",
       "      <td>191050.39</td>\n",
       "    </tr>\n",
       "    <tr>\n",
       "      <th>3</th>\n",
       "      <td>144372.41</td>\n",
       "      <td>118671.85</td>\n",
       "      <td>383199.62</td>\n",
       "      <td>New York</td>\n",
       "      <td>182901.99</td>\n",
       "    </tr>\n",
       "    <tr>\n",
       "      <th>4</th>\n",
       "      <td>142107.34</td>\n",
       "      <td>91391.77</td>\n",
       "      <td>366168.42</td>\n",
       "      <td>Florida</td>\n",
       "      <td>166187.94</td>\n",
       "    </tr>\n",
       "  </tbody>\n",
       "</table>\n",
       "</div>"
      ],
      "text/plain": [
       "   R&D Spend  Administration  Marketing Spend       State     Profit\n",
       "0  165349.20       136897.80        471784.10    New York  192261.83\n",
       "1  162597.70       151377.59        443898.53  California  191792.06\n",
       "2  153441.51       101145.55        407934.54     Florida  191050.39\n",
       "3  144372.41       118671.85        383199.62    New York  182901.99\n",
       "4  142107.34        91391.77        366168.42     Florida  166187.94"
      ]
     },
     "execution_count": 3,
     "metadata": {},
     "output_type": "execute_result"
    }
   ],
   "source": [
    "data.head()"
   ]
  },
  {
   "cell_type": "code",
   "execution_count": 4,
   "id": "7174b954",
   "metadata": {},
   "outputs": [
    {
     "data": {
      "text/html": [
       "<div>\n",
       "<style scoped>\n",
       "    .dataframe tbody tr th:only-of-type {\n",
       "        vertical-align: middle;\n",
       "    }\n",
       "\n",
       "    .dataframe tbody tr th {\n",
       "        vertical-align: top;\n",
       "    }\n",
       "\n",
       "    .dataframe thead th {\n",
       "        text-align: right;\n",
       "    }\n",
       "</style>\n",
       "<table border=\"1\" class=\"dataframe\">\n",
       "  <thead>\n",
       "    <tr style=\"text-align: right;\">\n",
       "      <th></th>\n",
       "      <th>R&amp;D Spend</th>\n",
       "      <th>Administration</th>\n",
       "      <th>Marketing Spend</th>\n",
       "      <th>Profit</th>\n",
       "    </tr>\n",
       "  </thead>\n",
       "  <tbody>\n",
       "    <tr>\n",
       "      <th>count</th>\n",
       "      <td>108.000000</td>\n",
       "      <td>108.000000</td>\n",
       "      <td>108.000000</td>\n",
       "      <td>108.000000</td>\n",
       "    </tr>\n",
       "    <tr>\n",
       "      <th>mean</th>\n",
       "      <td>74959.338704</td>\n",
       "      <td>121750.788889</td>\n",
       "      <td>214952.664722</td>\n",
       "      <td>113523.760000</td>\n",
       "    </tr>\n",
       "    <tr>\n",
       "      <th>std</th>\n",
       "      <td>44996.368152</td>\n",
       "      <td>27322.385654</td>\n",
       "      <td>117937.942120</td>\n",
       "      <td>38991.013654</td>\n",
       "    </tr>\n",
       "    <tr>\n",
       "      <th>min</th>\n",
       "      <td>0.000000</td>\n",
       "      <td>51283.140000</td>\n",
       "      <td>0.000000</td>\n",
       "      <td>14681.400000</td>\n",
       "    </tr>\n",
       "    <tr>\n",
       "      <th>25%</th>\n",
       "      <td>38558.510000</td>\n",
       "      <td>105077.645000</td>\n",
       "      <td>134050.070000</td>\n",
       "      <td>90708.190000</td>\n",
       "    </tr>\n",
       "    <tr>\n",
       "      <th>50%</th>\n",
       "      <td>75791.365000</td>\n",
       "      <td>122699.795000</td>\n",
       "      <td>239452.750000</td>\n",
       "      <td>109543.120000</td>\n",
       "    </tr>\n",
       "    <tr>\n",
       "      <th>75%</th>\n",
       "      <td>101913.080000</td>\n",
       "      <td>145077.580000</td>\n",
       "      <td>298664.470000</td>\n",
       "      <td>141585.520000</td>\n",
       "    </tr>\n",
       "    <tr>\n",
       "      <th>max</th>\n",
       "      <td>165349.200000</td>\n",
       "      <td>182645.560000</td>\n",
       "      <td>471784.100000</td>\n",
       "      <td>192261.830000</td>\n",
       "    </tr>\n",
       "  </tbody>\n",
       "</table>\n",
       "</div>"
      ],
      "text/plain": [
       "           R&D Spend  Administration  Marketing Spend         Profit\n",
       "count     108.000000      108.000000       108.000000     108.000000\n",
       "mean    74959.338704   121750.788889    214952.664722  113523.760000\n",
       "std     44996.368152    27322.385654    117937.942120   38991.013654\n",
       "min         0.000000    51283.140000         0.000000   14681.400000\n",
       "25%     38558.510000   105077.645000    134050.070000   90708.190000\n",
       "50%     75791.365000   122699.795000    239452.750000  109543.120000\n",
       "75%    101913.080000   145077.580000    298664.470000  141585.520000\n",
       "max    165349.200000   182645.560000    471784.100000  192261.830000"
      ]
     },
     "execution_count": 4,
     "metadata": {},
     "output_type": "execute_result"
    }
   ],
   "source": [
    "data.describe()"
   ]
  },
  {
   "cell_type": "code",
   "execution_count": 5,
   "id": "bb26b392",
   "metadata": {},
   "outputs": [
    {
     "data": {
      "text/html": [
       "<div>\n",
       "<style scoped>\n",
       "    .dataframe tbody tr th:only-of-type {\n",
       "        vertical-align: middle;\n",
       "    }\n",
       "\n",
       "    .dataframe tbody tr th {\n",
       "        vertical-align: top;\n",
       "    }\n",
       "\n",
       "    .dataframe thead th {\n",
       "        text-align: right;\n",
       "    }\n",
       "</style>\n",
       "<table border=\"1\" class=\"dataframe\">\n",
       "  <thead>\n",
       "    <tr style=\"text-align: right;\">\n",
       "      <th></th>\n",
       "      <th>R&amp;D Spend</th>\n",
       "      <th>Administration</th>\n",
       "      <th>Marketing Spend</th>\n",
       "      <th>State</th>\n",
       "      <th>Profit</th>\n",
       "    </tr>\n",
       "  </thead>\n",
       "  <tbody>\n",
       "    <tr>\n",
       "      <th>0</th>\n",
       "      <td>False</td>\n",
       "      <td>False</td>\n",
       "      <td>False</td>\n",
       "      <td>False</td>\n",
       "      <td>False</td>\n",
       "    </tr>\n",
       "    <tr>\n",
       "      <th>1</th>\n",
       "      <td>False</td>\n",
       "      <td>False</td>\n",
       "      <td>False</td>\n",
       "      <td>False</td>\n",
       "      <td>False</td>\n",
       "    </tr>\n",
       "    <tr>\n",
       "      <th>2</th>\n",
       "      <td>False</td>\n",
       "      <td>False</td>\n",
       "      <td>False</td>\n",
       "      <td>False</td>\n",
       "      <td>False</td>\n",
       "    </tr>\n",
       "    <tr>\n",
       "      <th>3</th>\n",
       "      <td>False</td>\n",
       "      <td>False</td>\n",
       "      <td>False</td>\n",
       "      <td>False</td>\n",
       "      <td>False</td>\n",
       "    </tr>\n",
       "    <tr>\n",
       "      <th>4</th>\n",
       "      <td>False</td>\n",
       "      <td>False</td>\n",
       "      <td>False</td>\n",
       "      <td>False</td>\n",
       "      <td>False</td>\n",
       "    </tr>\n",
       "    <tr>\n",
       "      <th>...</th>\n",
       "      <td>...</td>\n",
       "      <td>...</td>\n",
       "      <td>...</td>\n",
       "      <td>...</td>\n",
       "      <td>...</td>\n",
       "    </tr>\n",
       "    <tr>\n",
       "      <th>103</th>\n",
       "      <td>False</td>\n",
       "      <td>False</td>\n",
       "      <td>False</td>\n",
       "      <td>False</td>\n",
       "      <td>False</td>\n",
       "    </tr>\n",
       "    <tr>\n",
       "      <th>104</th>\n",
       "      <td>False</td>\n",
       "      <td>False</td>\n",
       "      <td>False</td>\n",
       "      <td>False</td>\n",
       "      <td>False</td>\n",
       "    </tr>\n",
       "    <tr>\n",
       "      <th>105</th>\n",
       "      <td>False</td>\n",
       "      <td>False</td>\n",
       "      <td>False</td>\n",
       "      <td>False</td>\n",
       "      <td>False</td>\n",
       "    </tr>\n",
       "    <tr>\n",
       "      <th>106</th>\n",
       "      <td>False</td>\n",
       "      <td>False</td>\n",
       "      <td>False</td>\n",
       "      <td>False</td>\n",
       "      <td>False</td>\n",
       "    </tr>\n",
       "    <tr>\n",
       "      <th>107</th>\n",
       "      <td>False</td>\n",
       "      <td>False</td>\n",
       "      <td>False</td>\n",
       "      <td>False</td>\n",
       "      <td>False</td>\n",
       "    </tr>\n",
       "  </tbody>\n",
       "</table>\n",
       "<p>108 rows × 5 columns</p>\n",
       "</div>"
      ],
      "text/plain": [
       "     R&D Spend  Administration  Marketing Spend  State  Profit\n",
       "0        False           False            False  False   False\n",
       "1        False           False            False  False   False\n",
       "2        False           False            False  False   False\n",
       "3        False           False            False  False   False\n",
       "4        False           False            False  False   False\n",
       "..         ...             ...              ...    ...     ...\n",
       "103      False           False            False  False   False\n",
       "104      False           False            False  False   False\n",
       "105      False           False            False  False   False\n",
       "106      False           False            False  False   False\n",
       "107      False           False            False  False   False\n",
       "\n",
       "[108 rows x 5 columns]"
      ]
     },
     "execution_count": 5,
     "metadata": {},
     "output_type": "execute_result"
    }
   ],
   "source": [
    "data.isnull()"
   ]
  },
  {
   "cell_type": "code",
   "execution_count": 6,
   "id": "8a115cd6",
   "metadata": {},
   "outputs": [
    {
     "data": {
      "text/plain": [
       "R&D Spend          0\n",
       "Administration     0\n",
       "Marketing Spend    0\n",
       "State              0\n",
       "Profit             0\n",
       "dtype: int64"
      ]
     },
     "execution_count": 6,
     "metadata": {},
     "output_type": "execute_result"
    }
   ],
   "source": [
    "data.isnull().sum()"
   ]
  },
  {
   "cell_type": "code",
   "execution_count": 7,
   "id": "e0af10a1",
   "metadata": {},
   "outputs": [
    {
     "data": {
      "text/plain": [
       "R&D Spend          float64\n",
       "Administration     float64\n",
       "Marketing Spend    float64\n",
       "State               object\n",
       "Profit             float64\n",
       "dtype: object"
      ]
     },
     "execution_count": 7,
     "metadata": {},
     "output_type": "execute_result"
    }
   ],
   "source": [
    "data.dtypes"
   ]
  },
  {
   "cell_type": "code",
   "execution_count": 8,
   "id": "14cf6cc9",
   "metadata": {},
   "outputs": [],
   "source": [
    "#feature enconding-transformaion of cateogorical column into numeric\n",
    "#female -0 male-1"
   ]
  },
  {
   "cell_type": "code",
   "execution_count": 9,
   "id": "758b47e8",
   "metadata": {},
   "outputs": [
    {
     "data": {
      "text/plain": [
       "New York      39\n",
       "California    36\n",
       "Florida       33\n",
       "Name: State, dtype: int64"
      ]
     },
     "execution_count": 9,
     "metadata": {},
     "output_type": "execute_result"
    }
   ],
   "source": [
    "#to identify the number of cateogeries in the dataset we have a function called value_counts()\n",
    "data['State'].value_counts()"
   ]
  },
  {
   "cell_type": "code",
   "execution_count": 10,
   "id": "f56e28fa",
   "metadata": {},
   "outputs": [],
   "source": [
    "#encoding using dictionary - shown when doing preprocess\n",
    "#encoding using dummies under pandas\n",
    "#Label encoder\n",
    "from sklearn.preprocessing import LabelEncoder"
   ]
  },
  {
   "cell_type": "code",
   "execution_count": 11,
   "id": "c296a077",
   "metadata": {},
   "outputs": [],
   "source": [
    "le=LabelEncoder()       #initializing"
   ]
  },
  {
   "cell_type": "code",
   "execution_count": 12,
   "id": "77002cd3",
   "metadata": {},
   "outputs": [
    {
     "data": {
      "text/html": [
       "<div>\n",
       "<style scoped>\n",
       "    .dataframe tbody tr th:only-of-type {\n",
       "        vertical-align: middle;\n",
       "    }\n",
       "\n",
       "    .dataframe tbody tr th {\n",
       "        vertical-align: top;\n",
       "    }\n",
       "\n",
       "    .dataframe thead th {\n",
       "        text-align: right;\n",
       "    }\n",
       "</style>\n",
       "<table border=\"1\" class=\"dataframe\">\n",
       "  <thead>\n",
       "    <tr style=\"text-align: right;\">\n",
       "      <th></th>\n",
       "      <th>R&amp;D Spend</th>\n",
       "      <th>Administration</th>\n",
       "      <th>Marketing Spend</th>\n",
       "      <th>State</th>\n",
       "      <th>Profit</th>\n",
       "    </tr>\n",
       "  </thead>\n",
       "  <tbody>\n",
       "    <tr>\n",
       "      <th>0</th>\n",
       "      <td>165349.20</td>\n",
       "      <td>136897.80</td>\n",
       "      <td>471784.10</td>\n",
       "      <td>New York</td>\n",
       "      <td>192261.83</td>\n",
       "    </tr>\n",
       "    <tr>\n",
       "      <th>1</th>\n",
       "      <td>162597.70</td>\n",
       "      <td>151377.59</td>\n",
       "      <td>443898.53</td>\n",
       "      <td>California</td>\n",
       "      <td>191792.06</td>\n",
       "    </tr>\n",
       "    <tr>\n",
       "      <th>2</th>\n",
       "      <td>153441.51</td>\n",
       "      <td>101145.55</td>\n",
       "      <td>407934.54</td>\n",
       "      <td>Florida</td>\n",
       "      <td>191050.39</td>\n",
       "    </tr>\n",
       "    <tr>\n",
       "      <th>3</th>\n",
       "      <td>144372.41</td>\n",
       "      <td>118671.85</td>\n",
       "      <td>383199.62</td>\n",
       "      <td>New York</td>\n",
       "      <td>182901.99</td>\n",
       "    </tr>\n",
       "    <tr>\n",
       "      <th>4</th>\n",
       "      <td>142107.34</td>\n",
       "      <td>91391.77</td>\n",
       "      <td>366168.42</td>\n",
       "      <td>Florida</td>\n",
       "      <td>166187.94</td>\n",
       "    </tr>\n",
       "  </tbody>\n",
       "</table>\n",
       "</div>"
      ],
      "text/plain": [
       "   R&D Spend  Administration  Marketing Spend       State     Profit\n",
       "0  165349.20       136897.80        471784.10    New York  192261.83\n",
       "1  162597.70       151377.59        443898.53  California  191792.06\n",
       "2  153441.51       101145.55        407934.54     Florida  191050.39\n",
       "3  144372.41       118671.85        383199.62    New York  182901.99\n",
       "4  142107.34        91391.77        366168.42     Florida  166187.94"
      ]
     },
     "execution_count": 12,
     "metadata": {},
     "output_type": "execute_result"
    }
   ],
   "source": [
    "data.head()"
   ]
  },
  {
   "cell_type": "code",
   "execution_count": 13,
   "id": "f9f9bf2a",
   "metadata": {},
   "outputs": [],
   "source": [
    "data[\"State\"]=le.fit_transform(data[\"State\"])"
   ]
  },
  {
   "cell_type": "code",
   "execution_count": 14,
   "id": "a8d58d35",
   "metadata": {},
   "outputs": [
    {
     "data": {
      "text/html": [
       "<div>\n",
       "<style scoped>\n",
       "    .dataframe tbody tr th:only-of-type {\n",
       "        vertical-align: middle;\n",
       "    }\n",
       "\n",
       "    .dataframe tbody tr th {\n",
       "        vertical-align: top;\n",
       "    }\n",
       "\n",
       "    .dataframe thead th {\n",
       "        text-align: right;\n",
       "    }\n",
       "</style>\n",
       "<table border=\"1\" class=\"dataframe\">\n",
       "  <thead>\n",
       "    <tr style=\"text-align: right;\">\n",
       "      <th></th>\n",
       "      <th>R&amp;D Spend</th>\n",
       "      <th>Administration</th>\n",
       "      <th>Marketing Spend</th>\n",
       "      <th>State</th>\n",
       "      <th>Profit</th>\n",
       "    </tr>\n",
       "  </thead>\n",
       "  <tbody>\n",
       "    <tr>\n",
       "      <th>0</th>\n",
       "      <td>165349.20</td>\n",
       "      <td>136897.80</td>\n",
       "      <td>471784.10</td>\n",
       "      <td>2</td>\n",
       "      <td>192261.83</td>\n",
       "    </tr>\n",
       "    <tr>\n",
       "      <th>1</th>\n",
       "      <td>162597.70</td>\n",
       "      <td>151377.59</td>\n",
       "      <td>443898.53</td>\n",
       "      <td>0</td>\n",
       "      <td>191792.06</td>\n",
       "    </tr>\n",
       "    <tr>\n",
       "      <th>2</th>\n",
       "      <td>153441.51</td>\n",
       "      <td>101145.55</td>\n",
       "      <td>407934.54</td>\n",
       "      <td>1</td>\n",
       "      <td>191050.39</td>\n",
       "    </tr>\n",
       "    <tr>\n",
       "      <th>3</th>\n",
       "      <td>144372.41</td>\n",
       "      <td>118671.85</td>\n",
       "      <td>383199.62</td>\n",
       "      <td>2</td>\n",
       "      <td>182901.99</td>\n",
       "    </tr>\n",
       "    <tr>\n",
       "      <th>4</th>\n",
       "      <td>142107.34</td>\n",
       "      <td>91391.77</td>\n",
       "      <td>366168.42</td>\n",
       "      <td>1</td>\n",
       "      <td>166187.94</td>\n",
       "    </tr>\n",
       "  </tbody>\n",
       "</table>\n",
       "</div>"
      ],
      "text/plain": [
       "   R&D Spend  Administration  Marketing Spend  State     Profit\n",
       "0  165349.20       136897.80        471784.10      2  192261.83\n",
       "1  162597.70       151377.59        443898.53      0  191792.06\n",
       "2  153441.51       101145.55        407934.54      1  191050.39\n",
       "3  144372.41       118671.85        383199.62      2  182901.99\n",
       "4  142107.34        91391.77        366168.42      1  166187.94"
      ]
     },
     "execution_count": 14,
     "metadata": {},
     "output_type": "execute_result"
    }
   ],
   "source": [
    "data.head()"
   ]
  },
  {
   "cell_type": "code",
   "execution_count": 15,
   "id": "b47a5706",
   "metadata": {},
   "outputs": [],
   "source": [
    "#encoding useing get_dummies\n",
    "#st=pd.get_dummies(data,columns=[\"State\"])\n",
    "#st"
   ]
  },
  {
   "cell_type": "code",
   "execution_count": 16,
   "id": "fed0951b",
   "metadata": {},
   "outputs": [],
   "source": [
    "x=data.drop(columns=[\"Profit\"])"
   ]
  },
  {
   "cell_type": "code",
   "execution_count": 17,
   "id": "e88cc083",
   "metadata": {},
   "outputs": [],
   "source": [
    "y=data[\"Profit\"]"
   ]
  },
  {
   "cell_type": "code",
   "execution_count": 18,
   "id": "adee2ad4",
   "metadata": {},
   "outputs": [
    {
     "data": {
      "text/html": [
       "<div>\n",
       "<style scoped>\n",
       "    .dataframe tbody tr th:only-of-type {\n",
       "        vertical-align: middle;\n",
       "    }\n",
       "\n",
       "    .dataframe tbody tr th {\n",
       "        vertical-align: top;\n",
       "    }\n",
       "\n",
       "    .dataframe thead th {\n",
       "        text-align: right;\n",
       "    }\n",
       "</style>\n",
       "<table border=\"1\" class=\"dataframe\">\n",
       "  <thead>\n",
       "    <tr style=\"text-align: right;\">\n",
       "      <th></th>\n",
       "      <th>R&amp;D Spend</th>\n",
       "      <th>Administration</th>\n",
       "      <th>Marketing Spend</th>\n",
       "      <th>State</th>\n",
       "    </tr>\n",
       "  </thead>\n",
       "  <tbody>\n",
       "    <tr>\n",
       "      <th>0</th>\n",
       "      <td>165349.20</td>\n",
       "      <td>136897.80</td>\n",
       "      <td>471784.10</td>\n",
       "      <td>2</td>\n",
       "    </tr>\n",
       "    <tr>\n",
       "      <th>1</th>\n",
       "      <td>162597.70</td>\n",
       "      <td>151377.59</td>\n",
       "      <td>443898.53</td>\n",
       "      <td>0</td>\n",
       "    </tr>\n",
       "    <tr>\n",
       "      <th>2</th>\n",
       "      <td>153441.51</td>\n",
       "      <td>101145.55</td>\n",
       "      <td>407934.54</td>\n",
       "      <td>1</td>\n",
       "    </tr>\n",
       "    <tr>\n",
       "      <th>3</th>\n",
       "      <td>144372.41</td>\n",
       "      <td>118671.85</td>\n",
       "      <td>383199.62</td>\n",
       "      <td>2</td>\n",
       "    </tr>\n",
       "    <tr>\n",
       "      <th>4</th>\n",
       "      <td>142107.34</td>\n",
       "      <td>91391.77</td>\n",
       "      <td>366168.42</td>\n",
       "      <td>1</td>\n",
       "    </tr>\n",
       "  </tbody>\n",
       "</table>\n",
       "</div>"
      ],
      "text/plain": [
       "   R&D Spend  Administration  Marketing Spend  State\n",
       "0  165349.20       136897.80        471784.10      2\n",
       "1  162597.70       151377.59        443898.53      0\n",
       "2  153441.51       101145.55        407934.54      1\n",
       "3  144372.41       118671.85        383199.62      2\n",
       "4  142107.34        91391.77        366168.42      1"
      ]
     },
     "execution_count": 18,
     "metadata": {},
     "output_type": "execute_result"
    }
   ],
   "source": [
    "x.head()"
   ]
  },
  {
   "cell_type": "markdown",
   "id": "4e285df8",
   "metadata": {},
   "source": [
    "# scaling"
   ]
  },
  {
   "cell_type": "code",
   "execution_count": 19,
   "id": "048e6fc9",
   "metadata": {},
   "outputs": [],
   "source": [
    "#scaling using scale function \n",
    "#minmax scale \n",
    "from sklearn.preprocessing import MinMaxScaler"
   ]
  },
  {
   "cell_type": "code",
   "execution_count": 20,
   "id": "e8a63497",
   "metadata": {},
   "outputs": [],
   "source": [
    "scale= MinMaxScaler(feature_range=(0,1))"
   ]
  },
  {
   "cell_type": "code",
   "execution_count": 21,
   "id": "c8ba4cc5",
   "metadata": {},
   "outputs": [
    {
     "data": {
      "text/plain": [
       "Index(['R&D Spend', 'Administration', 'Marketing Spend', 'State'], dtype='object')"
      ]
     },
     "execution_count": 21,
     "metadata": {},
     "output_type": "execute_result"
    }
   ],
   "source": [
    "names = x.columns\n",
    "names"
   ]
  },
  {
   "cell_type": "code",
   "execution_count": 22,
   "id": "2ecc382a",
   "metadata": {},
   "outputs": [],
   "source": [
    "x=scale.fit_transform(x)"
   ]
  },
  {
   "cell_type": "code",
   "execution_count": 23,
   "id": "39c6ecb9",
   "metadata": {},
   "outputs": [
    {
     "data": {
      "text/plain": [
       "array([[1.        , 0.65174393, 1.        , 1.        ],\n",
       "       [0.98335946, 0.76197173, 0.94089337, 0.        ],\n",
       "       [0.92798459, 0.37957895, 0.8646636 , 0.5       ],\n",
       "       [0.87313643, 0.51299839, 0.81223513, 1.        ],\n",
       "       [0.85943772, 0.30532804, 0.77613557, 0.5       ],\n",
       "       [0.797566  , 0.3694479 , 0.76912588, 1.        ],\n",
       "       [0.81412828, 0.73016111, 0.27071031, 0.        ],\n",
       "       [0.7880179 , 0.71745725, 0.68649342, 0.5       ],\n",
       "       [0.72901786, 0.74173276, 0.66049977, 1.        ],\n",
       "       [0.74590551, 0.43692884, 0.64644319, 0.        ],\n",
       "       [0.61635061, 0.45150637, 0.48573267, 0.5       ],\n",
       "       [0.60884455, 0.30836422, 0.52936195, 0.        ],\n",
       "       [0.56766982, 0.57883556, 0.52956308, 0.5       ],\n",
       "       [0.55635219, 0.64106561, 0.53555202, 0.        ],\n",
       "       [0.72539353, 0.8013272 , 0.54370828, 0.5       ],\n",
       "       [0.69261666, 0.54302973, 0.55486446, 1.        ],\n",
       "       [0.47180821, 0.53527036, 0.56031151, 0.        ],\n",
       "       [0.57246821, 0.71401273, 0.59894835, 1.        ],\n",
       "       [0.55488118, 0.47877201, 0.62511553, 0.5       ],\n",
       "       [0.52264964, 0.77823604, 0.        , 1.        ],\n",
       "       [0.46116861, 0.47642362, 0.63305328, 0.        ],\n",
       "       [0.47408436, 0.78021012, 0.63532724, 1.        ],\n",
       "       [0.4475048 , 0.54429273, 0.64291963, 0.5       ],\n",
       "       [0.40842369, 0.4146383 , 0.64599195, 0.5       ],\n",
       "       [0.46594728, 0.3653876 , 0.29796428, 1.        ],\n",
       "       [0.39107967, 0.67195793, 0.29242745, 0.        ],\n",
       "       [0.45557444, 0.70684477, 0.28413435, 0.5       ],\n",
       "       [0.43609283, 0.58297807, 0.74861321, 1.        ],\n",
       "       [0.39946683, 1.        , 0.25042853, 0.5       ],\n",
       "       [0.39676926, 0.77456642, 0.22709197, 1.        ],\n",
       "       [0.37493063, 0.48992809, 0.19316302, 0.5       ],\n",
       "       [0.36974101, 0.77205322, 0.18698856, 1.        ],\n",
       "       [0.38348453, 0.5932935 , 0.09768292, 0.        ],\n",
       "       [0.33561668, 0.39413365, 0.45494286, 0.5       ],\n",
       "       [0.2807759 , 0.81005496, 0.44680961, 0.        ],\n",
       "       [0.2782839 , 0.25703165, 0.43561799, 1.        ],\n",
       "       [0.17335288, 0.57682456, 0.42631115, 0.5       ],\n",
       "       [0.26652654, 0.        , 0.41762624, 0.        ],\n",
       "       [0.12234465, 0.11163611, 0.39269043, 1.        ],\n",
       "       [0.23319442, 0.24130912, 0.3709309 , 0.        ],\n",
       "       [0.17390063, 0.51204073, 0.36626005, 0.        ],\n",
       "       [0.16869099, 0.25446874, 0.34861436, 0.5       ],\n",
       "       [0.14297577, 0.34185188, 0.31370517, 0.        ],\n",
       "       [0.09377566, 0.57930693, 0.07531871, 1.        ],\n",
       "       [0.13412668, 0.78807166, 0.06005866, 0.        ],\n",
       "       [0.0060492 , 0.5547241 , 0.0040356 , 1.        ],\n",
       "       [0.00795565, 0.49125975, 0.62976785, 0.5       ],\n",
       "       [0.        , 0.64054682, 0.        , 0.        ],\n",
       "       [0.00327821, 0.00350184, 0.        , 1.        ],\n",
       "       [0.        , 0.50014806, 0.09574943, 0.        ],\n",
       "       [0.60884455, 0.30836422, 0.52936195, 0.        ],\n",
       "       [0.56766982, 0.57883556, 0.52956308, 0.5       ],\n",
       "       [0.55635219, 0.64106561, 0.53555202, 0.        ],\n",
       "       [0.72539353, 0.8013272 , 0.54370828, 0.5       ],\n",
       "       [0.69261666, 0.54302973, 0.55486446, 1.        ],\n",
       "       [0.47180821, 0.53527036, 0.56031151, 0.        ],\n",
       "       [0.57246821, 0.71401273, 0.59894835, 1.        ],\n",
       "       [0.55488118, 0.47877201, 0.62511553, 0.5       ],\n",
       "       [0.52264964, 0.77823604, 0.        , 1.        ],\n",
       "       [0.46116861, 0.47642362, 0.63305328, 0.        ],\n",
       "       [0.47408436, 0.78021012, 0.63532724, 1.        ],\n",
       "       [0.4475048 , 0.54429273, 0.64291963, 0.5       ],\n",
       "       [0.40842369, 0.4146383 , 0.64599195, 0.5       ],\n",
       "       [0.46594728, 0.3653876 , 0.29796428, 1.        ],\n",
       "       [0.39107967, 0.67195793, 0.29242745, 0.        ],\n",
       "       [0.45557444, 0.70684477, 0.28413435, 0.5       ],\n",
       "       [0.43609283, 0.58297807, 0.74861321, 1.        ],\n",
       "       [0.39946683, 1.        , 0.25042853, 0.5       ],\n",
       "       [0.39676926, 0.77456642, 0.22709197, 1.        ],\n",
       "       [0.37493063, 0.48992809, 0.19316302, 1.        ],\n",
       "       [0.12234465, 0.77205322, 0.18698856, 1.        ],\n",
       "       [0.38348453, 0.5932935 , 0.09768292, 0.        ],\n",
       "       [0.33561668, 0.39413365, 0.45494286, 0.5       ],\n",
       "       [0.2807759 , 0.81005496, 0.44680961, 1.        ],\n",
       "       [0.12234465, 0.25703165, 0.43561799, 1.        ],\n",
       "       [0.17335288, 0.57682456, 0.42631115, 0.5       ],\n",
       "       [0.26652654, 0.        , 0.41762624, 0.        ],\n",
       "       [0.12234465, 0.11163611, 0.39269043, 1.        ],\n",
       "       [0.23319442, 0.24130912, 0.3709309 , 0.        ],\n",
       "       [0.17390063, 0.51204073, 0.36626005, 0.        ],\n",
       "       [0.16869099, 0.25446874, 0.34861436, 1.        ],\n",
       "       [0.14297577, 0.34185188, 0.31370517, 0.        ],\n",
       "       [0.12234465, 0.57930693, 0.07531871, 1.        ],\n",
       "       [0.13412668, 0.78807166, 0.06005866, 0.        ],\n",
       "       [0.0060492 , 0.5547241 , 0.0040356 , 1.        ],\n",
       "       [0.00795565, 0.49125975, 0.62976785, 0.5       ],\n",
       "       [0.        , 0.64054682, 0.        , 0.        ],\n",
       "       [0.00327821, 0.00350184, 0.        , 1.        ],\n",
       "       [0.        , 0.50014806, 0.09574943, 0.        ],\n",
       "       [1.        , 0.65174393, 1.        , 1.        ],\n",
       "       [0.98335946, 0.76197173, 0.94089337, 0.        ],\n",
       "       [0.92798459, 0.37957895, 0.8646636 , 0.5       ],\n",
       "       [0.87313643, 0.51299839, 0.81223513, 1.        ],\n",
       "       [0.85943772, 0.30532804, 0.77613557, 0.5       ],\n",
       "       [0.797566  , 0.3694479 , 0.76912588, 1.        ],\n",
       "       [0.81412828, 0.73016111, 0.27071031, 0.        ],\n",
       "       [0.7880179 , 0.71745725, 0.68649342, 0.5       ],\n",
       "       [0.72901786, 0.74173276, 0.66049977, 1.        ],\n",
       "       [0.74590551, 0.43692884, 0.64644319, 0.        ],\n",
       "       [0.61635061, 0.45150637, 0.48573267, 0.5       ],\n",
       "       [0.60884455, 0.30836422, 0.52936195, 0.        ],\n",
       "       [0.56766982, 0.57883556, 0.52956308, 0.5       ],\n",
       "       [0.55635219, 0.64106561, 0.53555202, 0.        ],\n",
       "       [0.72539353, 0.8013272 , 0.54370828, 0.5       ],\n",
       "       [0.69261666, 0.54302973, 0.55486446, 1.        ],\n",
       "       [0.47180821, 0.53527036, 0.56031151, 0.        ],\n",
       "       [0.57246821, 0.71401273, 0.59894835, 1.        ],\n",
       "       [0.55488118, 0.47877201, 0.62511553, 0.5       ]])"
      ]
     },
     "execution_count": 23,
     "metadata": {},
     "output_type": "execute_result"
    }
   ],
   "source": [
    "x"
   ]
  },
  {
   "cell_type": "code",
   "execution_count": 24,
   "id": "5795f82c",
   "metadata": {},
   "outputs": [
    {
     "data": {
      "text/html": [
       "<div>\n",
       "<style scoped>\n",
       "    .dataframe tbody tr th:only-of-type {\n",
       "        vertical-align: middle;\n",
       "    }\n",
       "\n",
       "    .dataframe tbody tr th {\n",
       "        vertical-align: top;\n",
       "    }\n",
       "\n",
       "    .dataframe thead th {\n",
       "        text-align: right;\n",
       "    }\n",
       "</style>\n",
       "<table border=\"1\" class=\"dataframe\">\n",
       "  <thead>\n",
       "    <tr style=\"text-align: right;\">\n",
       "      <th></th>\n",
       "      <th>R&amp;D Spend</th>\n",
       "      <th>Administration</th>\n",
       "      <th>Marketing Spend</th>\n",
       "      <th>State</th>\n",
       "    </tr>\n",
       "  </thead>\n",
       "  <tbody>\n",
       "    <tr>\n",
       "      <th>0</th>\n",
       "      <td>1.000000</td>\n",
       "      <td>0.651744</td>\n",
       "      <td>1.000000</td>\n",
       "      <td>1.0</td>\n",
       "    </tr>\n",
       "    <tr>\n",
       "      <th>1</th>\n",
       "      <td>0.983359</td>\n",
       "      <td>0.761972</td>\n",
       "      <td>0.940893</td>\n",
       "      <td>0.0</td>\n",
       "    </tr>\n",
       "    <tr>\n",
       "      <th>2</th>\n",
       "      <td>0.927985</td>\n",
       "      <td>0.379579</td>\n",
       "      <td>0.864664</td>\n",
       "      <td>0.5</td>\n",
       "    </tr>\n",
       "    <tr>\n",
       "      <th>3</th>\n",
       "      <td>0.873136</td>\n",
       "      <td>0.512998</td>\n",
       "      <td>0.812235</td>\n",
       "      <td>1.0</td>\n",
       "    </tr>\n",
       "    <tr>\n",
       "      <th>4</th>\n",
       "      <td>0.859438</td>\n",
       "      <td>0.305328</td>\n",
       "      <td>0.776136</td>\n",
       "      <td>0.5</td>\n",
       "    </tr>\n",
       "    <tr>\n",
       "      <th>...</th>\n",
       "      <td>...</td>\n",
       "      <td>...</td>\n",
       "      <td>...</td>\n",
       "      <td>...</td>\n",
       "    </tr>\n",
       "    <tr>\n",
       "      <th>103</th>\n",
       "      <td>0.725394</td>\n",
       "      <td>0.801327</td>\n",
       "      <td>0.543708</td>\n",
       "      <td>0.5</td>\n",
       "    </tr>\n",
       "    <tr>\n",
       "      <th>104</th>\n",
       "      <td>0.692617</td>\n",
       "      <td>0.543030</td>\n",
       "      <td>0.554864</td>\n",
       "      <td>1.0</td>\n",
       "    </tr>\n",
       "    <tr>\n",
       "      <th>105</th>\n",
       "      <td>0.471808</td>\n",
       "      <td>0.535270</td>\n",
       "      <td>0.560312</td>\n",
       "      <td>0.0</td>\n",
       "    </tr>\n",
       "    <tr>\n",
       "      <th>106</th>\n",
       "      <td>0.572468</td>\n",
       "      <td>0.714013</td>\n",
       "      <td>0.598948</td>\n",
       "      <td>1.0</td>\n",
       "    </tr>\n",
       "    <tr>\n",
       "      <th>107</th>\n",
       "      <td>0.554881</td>\n",
       "      <td>0.478772</td>\n",
       "      <td>0.625116</td>\n",
       "      <td>0.5</td>\n",
       "    </tr>\n",
       "  </tbody>\n",
       "</table>\n",
       "<p>108 rows × 4 columns</p>\n",
       "</div>"
      ],
      "text/plain": [
       "     R&D Spend  Administration  Marketing Spend  State\n",
       "0     1.000000        0.651744         1.000000    1.0\n",
       "1     0.983359        0.761972         0.940893    0.0\n",
       "2     0.927985        0.379579         0.864664    0.5\n",
       "3     0.873136        0.512998         0.812235    1.0\n",
       "4     0.859438        0.305328         0.776136    0.5\n",
       "..         ...             ...              ...    ...\n",
       "103   0.725394        0.801327         0.543708    0.5\n",
       "104   0.692617        0.543030         0.554864    1.0\n",
       "105   0.471808        0.535270         0.560312    0.0\n",
       "106   0.572468        0.714013         0.598948    1.0\n",
       "107   0.554881        0.478772         0.625116    0.5\n",
       "\n",
       "[108 rows x 4 columns]"
      ]
     },
     "execution_count": 24,
     "metadata": {},
     "output_type": "execute_result"
    }
   ],
   "source": [
    "data=pd.DataFrame(x,columns=names)\n",
    "data"
   ]
  },
  {
   "cell_type": "code",
   "execution_count": 25,
   "id": "159272e3",
   "metadata": {},
   "outputs": [],
   "source": [
    "x=pd.DataFrame(x,columns=names)\n",
    "#changing the array data into dataFrame"
   ]
  },
  {
   "cell_type": "code",
   "execution_count": 26,
   "id": "8bcadac7",
   "metadata": {},
   "outputs": [
    {
     "data": {
      "text/html": [
       "<div>\n",
       "<style scoped>\n",
       "    .dataframe tbody tr th:only-of-type {\n",
       "        vertical-align: middle;\n",
       "    }\n",
       "\n",
       "    .dataframe tbody tr th {\n",
       "        vertical-align: top;\n",
       "    }\n",
       "\n",
       "    .dataframe thead th {\n",
       "        text-align: right;\n",
       "    }\n",
       "</style>\n",
       "<table border=\"1\" class=\"dataframe\">\n",
       "  <thead>\n",
       "    <tr style=\"text-align: right;\">\n",
       "      <th></th>\n",
       "      <th>R&amp;D Spend</th>\n",
       "      <th>Administration</th>\n",
       "      <th>Marketing Spend</th>\n",
       "      <th>State</th>\n",
       "    </tr>\n",
       "  </thead>\n",
       "  <tbody>\n",
       "    <tr>\n",
       "      <th>0</th>\n",
       "      <td>1.000000</td>\n",
       "      <td>0.651744</td>\n",
       "      <td>1.000000</td>\n",
       "      <td>1.0</td>\n",
       "    </tr>\n",
       "    <tr>\n",
       "      <th>1</th>\n",
       "      <td>0.983359</td>\n",
       "      <td>0.761972</td>\n",
       "      <td>0.940893</td>\n",
       "      <td>0.0</td>\n",
       "    </tr>\n",
       "    <tr>\n",
       "      <th>2</th>\n",
       "      <td>0.927985</td>\n",
       "      <td>0.379579</td>\n",
       "      <td>0.864664</td>\n",
       "      <td>0.5</td>\n",
       "    </tr>\n",
       "    <tr>\n",
       "      <th>3</th>\n",
       "      <td>0.873136</td>\n",
       "      <td>0.512998</td>\n",
       "      <td>0.812235</td>\n",
       "      <td>1.0</td>\n",
       "    </tr>\n",
       "    <tr>\n",
       "      <th>4</th>\n",
       "      <td>0.859438</td>\n",
       "      <td>0.305328</td>\n",
       "      <td>0.776136</td>\n",
       "      <td>0.5</td>\n",
       "    </tr>\n",
       "  </tbody>\n",
       "</table>\n",
       "</div>"
      ],
      "text/plain": [
       "   R&D Spend  Administration  Marketing Spend  State\n",
       "0   1.000000        0.651744         1.000000    1.0\n",
       "1   0.983359        0.761972         0.940893    0.0\n",
       "2   0.927985        0.379579         0.864664    0.5\n",
       "3   0.873136        0.512998         0.812235    1.0\n",
       "4   0.859438        0.305328         0.776136    0.5"
      ]
     },
     "execution_count": 26,
     "metadata": {},
     "output_type": "execute_result"
    }
   ],
   "source": [
    "x.head()"
   ]
  },
  {
   "cell_type": "markdown",
   "id": "bc65b78e",
   "metadata": {},
   "source": [
    "# Splitting the data into train test"
   ]
  },
  {
   "cell_type": "code",
   "execution_count": 27,
   "id": "1f4fa917",
   "metadata": {},
   "outputs": [],
   "source": [
    "from sklearn.model_selection import train_test_split"
   ]
  },
  {
   "cell_type": "code",
   "execution_count": 28,
   "id": "efe969e7",
   "metadata": {},
   "outputs": [],
   "source": [
    "x_train,x_test,y_train,y_test=train_test_split(x,y,test_size=0.2,random_state=111)"
   ]
  },
  {
   "cell_type": "markdown",
   "id": "1c135ebe",
   "metadata": {},
   "source": [
    "# Model Building"
   ]
  },
  {
   "cell_type": "code",
   "execution_count": 29,
   "id": "9d45adcd",
   "metadata": {},
   "outputs": [],
   "source": [
    "from sklearn.linear_model import LinearRegression"
   ]
  },
  {
   "cell_type": "code",
   "execution_count": 30,
   "id": "e4b82ede",
   "metadata": {},
   "outputs": [],
   "source": [
    "model = LinearRegression()"
   ]
  },
  {
   "cell_type": "code",
   "execution_count": 31,
   "id": "5f742e7d",
   "metadata": {},
   "outputs": [
    {
     "data": {
      "text/plain": [
       "LinearRegression()"
      ]
     },
     "execution_count": 31,
     "metadata": {},
     "output_type": "execute_result"
    }
   ],
   "source": [
    "model.fit(x_train,y_train)"
   ]
  },
  {
   "cell_type": "markdown",
   "id": "2fc67469",
   "metadata": {},
   "source": [
    "# Evaluate the performance"
   ]
  },
  {
   "cell_type": "markdown",
   "id": "17ad2d22",
   "metadata": {},
   "source": [
    "#here the model(linear regression) got fitted with train data (x_train and y_train)\n",
    "\n",
    "#now we need to check for performance\n",
    "\n",
    "#for that we have a function called ROOT MEAN SQUARE ERROR\n",
    "\n",
    "RMSE\n",
    "\n",
    "E = error = yact - ypred\n",
    "\n",
    "SE = squared error = E*E\n",
    "\n",
    "MSE = mean squared error = SE.mean()\n",
    "\n",
    "RMSE = root mean square error=sqrt(MSE)"
   ]
  },
  {
   "cell_type": "code",
   "execution_count": 32,
   "id": "5ec968b4",
   "metadata": {},
   "outputs": [],
   "source": [
    "#check for train data\n",
    "pred = model.predict(x_train)"
   ]
  },
  {
   "cell_type": "code",
   "execution_count": 33,
   "id": "fce166e4",
   "metadata": {},
   "outputs": [
    {
     "data": {
      "text/plain": [
       "array([102196.71861265, 128546.28500864, 148153.01127419,  75547.01552928,\n",
       "       130604.52868842, 126086.6048649 , 101728.90519854, 128484.35489416,\n",
       "       162517.6959426 ,  77006.16686902, 169752.56699857,  63115.3370295 ,\n",
       "       151262.05390202, 190526.14043549, 158268.18175104, 118378.28892283,\n",
       "        98566.30836192,  98397.44197585,  65600.93203752, 162517.6959426 ,\n",
       "        58922.6967375 ,  77006.16686902, 172288.12499542, 133654.08376553,\n",
       "       145803.16781827, 185463.93713345, 190526.14043549, 115629.62525393,\n",
       "       151262.05390202,  91184.11040238,  52278.31523938,  71408.90163111,\n",
       "        99800.82880537, 155095.56368724, 179436.80377919, 185463.93713345,\n",
       "       126086.6048649 , 114058.91845612, 114868.45201873,  72491.55440825,\n",
       "       114058.91845612,  83943.6781929 ,  49851.53893161, 133654.08376553,\n",
       "       130604.52868842, 169752.56699857, 115755.75806346,  72344.01416382,\n",
       "       148153.01127419,  71408.90163111, 152277.4929459 , 103118.4626943 ,\n",
       "       103118.4626943 , 133654.08376553, 126086.6048649 ,  67675.49508342,\n",
       "        99152.57343637,  83943.6781929 , 100718.67193889,  51075.59965046,\n",
       "       155095.56368724, 116098.21481423,  89511.18998048,  89511.18998048,\n",
       "        98566.30836192, 145803.16781827, 118378.28892283,  89348.42413534,\n",
       "       148153.01127419, 102196.71861265,  49851.53893161, 110640.30596074,\n",
       "       134527.80113223, 128546.28500864, 158268.18175104, 128484.35489416,\n",
       "        98397.44197585,  75547.01552928,  66750.26686263, 115629.62525393,\n",
       "        76318.77704588, 116098.21481423,  48165.96300997, 130604.52868842,\n",
       "       128484.35489416,  51075.59965046])"
      ]
     },
     "execution_count": 33,
     "metadata": {},
     "output_type": "execute_result"
    }
   ],
   "source": [
    "pred"
   ]
  },
  {
   "cell_type": "code",
   "execution_count": 34,
   "id": "5c471d72",
   "metadata": {},
   "outputs": [
    {
     "data": {
      "text/plain": [
       "67     103282.38\n",
       "101    141585.52\n",
       "53     132602.65\n",
       "79      78239.91\n",
       "56     125370.37\n",
       "         ...    \n",
       "19     122776.86\n",
       "86      42559.73\n",
       "106    125370.37\n",
       "107    124266.90\n",
       "84      64926.08\n",
       "Name: Profit, Length: 86, dtype: float64"
      ]
     },
     "execution_count": 34,
     "metadata": {},
     "output_type": "execute_result"
    }
   ],
   "source": [
    "y_train"
   ]
  },
  {
   "cell_type": "code",
   "execution_count": 35,
   "id": "68bd97b9",
   "metadata": {},
   "outputs": [],
   "source": [
    "#converting the y_train values into array\n",
    "yact = np.array(y_train)"
   ]
  },
  {
   "cell_type": "code",
   "execution_count": 36,
   "id": "297ab0d8",
   "metadata": {},
   "outputs": [
    {
     "data": {
      "text/plain": [
       "array([103282.38, 141585.52, 132602.65,  78239.91, 125370.37, 134307.35,\n",
       "       107404.34, 124266.9 , 156991.12,  90708.19, 166187.94,  69758.98,\n",
       "       152211.77, 192261.83, 155752.6 , 111313.02,  96778.92,  97427.84,\n",
       "        65200.33, 156991.12,  49490.75,  90708.19, 182901.99, 144259.4 ,\n",
       "       129917.04, 191792.06, 192261.83, 105008.31, 152211.77,  96712.8 ,\n",
       "        35673.41,  71498.49,  99937.59, 156122.51, 191050.39, 191792.06,\n",
       "       134307.35, 108552.04, 110352.25,  96479.51, 108552.04,  81005.76,\n",
       "        14681.4 , 144259.4 , 125370.37, 166187.94, 118474.03,  81229.06,\n",
       "       132602.65,  71498.49, 149759.96, 101004.64, 101004.64, 144259.4 ,\n",
       "       134307.35,  97483.56,  97483.56,  81005.76,  99937.59,  64926.08,\n",
       "       156122.51, 122776.86,  89949.14,  89949.14,  96778.92, 129917.04,\n",
       "       111313.02,  96712.8 , 132602.65, 103282.38,  14681.4 , 105733.54,\n",
       "       146121.95, 141585.52, 155752.6 , 124266.9 ,  97427.84,  78239.91,\n",
       "        69758.98, 105008.31,  77798.83, 122776.86,  42559.73, 125370.37,\n",
       "       124266.9 ,  64926.08])"
      ]
     },
     "execution_count": 36,
     "metadata": {},
     "output_type": "execute_result"
    }
   ],
   "source": [
    "yact"
   ]
  },
  {
   "cell_type": "code",
   "execution_count": 37,
   "id": "ef5c1860",
   "metadata": {},
   "outputs": [],
   "source": [
    "error= yact-pred"
   ]
  },
  {
   "cell_type": "code",
   "execution_count": 38,
   "id": "189c8cc4",
   "metadata": {},
   "outputs": [
    {
     "data": {
      "text/plain": [
       "array([  1085.66138735,  13039.23499136, -15550.36127419,   2692.89447072,\n",
       "        -5234.15868842,   8220.7451351 ,   5675.43480146,  -4217.45489416,\n",
       "        -5526.5759426 ,  13702.02313098,  -3564.62699857,   6643.6429705 ,\n",
       "          949.71609798,   1735.68956451,  -2515.58175104,  -7065.26892283,\n",
       "        -1787.38836192,   -969.60197585,   -400.60203752,  -5526.5759426 ,\n",
       "        -9431.9467375 ,  13702.02313098,  10613.86500458,  10605.31623447,\n",
       "       -15886.12781827,   6328.12286655,   1735.68956451, -10621.31525393,\n",
       "          949.71609798,   5528.68959762, -16604.90523938,     89.58836889,\n",
       "          136.76119463,   1026.94631276,  11613.58622081,   6328.12286655,\n",
       "         8220.7451351 ,  -5506.87845612,  -4516.20201873,  23987.95559175,\n",
       "        -5506.87845612,  -2937.9181929 , -35170.13893161,  10605.31623447,\n",
       "        -5234.15868842,  -3564.62699857,   2718.27193654,   8885.04583618,\n",
       "       -15550.36127419,     89.58836889,  -2517.5329459 ,  -2113.8226943 ,\n",
       "        -2113.8226943 ,  10605.31623447,   8220.7451351 ,  29808.06491658,\n",
       "        -1669.01343637,  -2937.9181929 ,   -781.08193889,  13850.48034954,\n",
       "         1026.94631276,   6678.64518577,    437.95001952,    437.95001952,\n",
       "        -1787.38836192, -15886.12781827,  -7065.26892283,   7364.37586466,\n",
       "       -15550.36127419,   1085.66138735, -35170.13893161,  -4906.76596074,\n",
       "        11594.14886777,  13039.23499136,  -2515.58175104,  -4217.45489416,\n",
       "         -969.60197585,   2692.89447072,   3008.71313737, -10621.31525393,\n",
       "         1480.05295412,   6678.64518577,  -5606.23300997,  -5234.15868842,\n",
       "        -4217.45489416,  13850.48034954])"
      ]
     },
     "execution_count": 38,
     "metadata": {},
     "output_type": "execute_result"
    }
   ],
   "source": [
    "error"
   ]
  },
  {
   "cell_type": "code",
   "execution_count": 39,
   "id": "14bef46a",
   "metadata": {},
   "outputs": [
    {
     "data": {
      "text/plain": [
       "<AxesSubplot:ylabel='Count'>"
      ]
     },
     "execution_count": 39,
     "metadata": {},
     "output_type": "execute_result"
    },
    {
     "data": {
      "image/png": "[encoded data removed]",
      "text/plain": [
       "<Figure size 432x288 with 1 Axes>"
      ]
     },
     "metadata": {
      "needs_background": "light"
     },
     "output_type": "display_data"
    }
   ],
   "source": [
    "sb.histplot(error)"
   ]
  },
  {
   "cell_type": "code",
   "execution_count": 40,
   "id": "bdf7372e",
   "metadata": {},
   "outputs": [],
   "source": [
    "SE = error*error"
   ]
  },
  {
   "cell_type": "code",
   "execution_count": 41,
   "id": "0d1ea97e",
   "metadata": {},
   "outputs": [
    {
     "data": {
      "text/plain": [
       "array([1.17866065e+06, 1.70021649e+08, 2.41813736e+08, 7.25168063e+06,\n",
       "       2.73964172e+07, 6.75806506e+07, 3.22105602e+07, 1.77869258e+07,\n",
       "       3.05430416e+07, 1.87745438e+08, 1.27065656e+07, 4.41379919e+07,\n",
       "       9.01960667e+05, 3.01261826e+06, 6.32815155e+06, 4.99180250e+07,\n",
       "       3.19475716e+06, 9.40127992e+05, 1.60481992e+05, 3.05430416e+07,\n",
       "       8.89616193e+07, 1.87745438e+08, 1.12654130e+08, 1.12472732e+08,\n",
       "       2.52369057e+08, 4.00451390e+07, 3.01261826e+06, 1.12812338e+08,\n",
       "       9.01960667e+05, 3.05664087e+07, 2.75722878e+08, 8.02607584e+03,\n",
       "       1.87036244e+04, 1.05461873e+06, 1.34875385e+08, 4.00451390e+07,\n",
       "       6.75806506e+07, 3.03257103e+07, 2.03960807e+07, 5.75422013e+08,\n",
       "       3.03257103e+07, 8.63136331e+06, 1.23693867e+09, 1.12472732e+08,\n",
       "       2.73964172e+07, 1.27065656e+07, 7.38900232e+06, 7.89440395e+07,\n",
       "       2.41813736e+08, 8.02607584e+03, 6.33797213e+06, 4.46824638e+06,\n",
       "       4.46824638e+06, 1.12472732e+08, 6.75806506e+07, 8.88520734e+08,\n",
       "       2.78560585e+06, 8.63136331e+06, 6.10088995e+05, 1.91835806e+08,\n",
       "       1.05461873e+06, 4.46043015e+07, 1.91800220e+05, 1.91800220e+05,\n",
       "       3.19475716e+06, 2.52369057e+08, 4.99180250e+07, 5.42340319e+07,\n",
       "       2.41813736e+08, 1.17866065e+06, 1.23693867e+09, 2.40763522e+07,\n",
       "       1.34424288e+08, 1.70021649e+08, 6.32815155e+06, 1.77869258e+07,\n",
       "       9.40127992e+05, 7.25168063e+06, 9.05235474e+06, 1.12812338e+08,\n",
       "       2.19055675e+06, 4.46043015e+07, 3.14298486e+07, 2.73964172e+07,\n",
       "       1.77869258e+07, 1.91835806e+08])"
      ]
     },
     "execution_count": 41,
     "metadata": {},
     "output_type": "execute_result"
    }
   ],
   "source": [
    "SE"
   ]
  },
  {
   "cell_type": "code",
   "execution_count": 42,
   "id": "b78e8569",
   "metadata": {},
   "outputs": [],
   "source": [
    "MSE = SE.mean()"
   ]
  },
  {
   "cell_type": "code",
   "execution_count": 43,
   "id": "881dd8fa",
   "metadata": {},
   "outputs": [
    {
     "data": {
      "text/plain": [
       "101748000.26805343"
      ]
     },
     "execution_count": 43,
     "metadata": {},
     "output_type": "execute_result"
    }
   ],
   "source": [
    "MSE"
   ]
  },
  {
   "cell_type": "code",
   "execution_count": 44,
   "id": "82109781",
   "metadata": {},
   "outputs": [
    {
     "data": {
      "text/plain": [
       "10087.021377396472"
      ]
     },
     "execution_count": 44,
     "metadata": {},
     "output_type": "execute_result"
    }
   ],
   "source": [
    "np.sqrt(MSE)    #RMSE"
   ]
  },
  {
   "cell_type": "code",
   "execution_count": 45,
   "id": "360a4977",
   "metadata": {},
   "outputs": [],
   "source": [
    "from sklearn import metrics"
   ]
  },
  {
   "cell_type": "code",
   "execution_count": 46,
   "id": "1636f87b",
   "metadata": {},
   "outputs": [
    {
     "data": {
      "text/plain": [
       "10087.021377396472"
      ]
     },
     "execution_count": 46,
     "metadata": {},
     "output_type": "execute_result"
    }
   ],
   "source": [
    "np.sqrt(metrics.mean_squared_error(y_train,pred))"
   ]
  },
  {
   "cell_type": "code",
   "execution_count": 47,
   "id": "c8a4f38f",
   "metadata": {},
   "outputs": [
    {
     "data": {
      "text/plain": [
       "0.9313695122071292"
      ]
     },
     "execution_count": 47,
     "metadata": {},
     "output_type": "execute_result"
    }
   ],
   "source": [
    "metrics.r2_score(y_train,pred)  #model is able to explain 93% of the data"
   ]
  },
  {
   "cell_type": "markdown",
   "id": "4373bfa7",
   "metadata": {},
   "source": [
    "# test"
   ]
  },
  {
   "cell_type": "code",
   "execution_count": 48,
   "id": "dc041099",
   "metadata": {},
   "outputs": [],
   "source": [
    "predt=model.predict(x_test)"
   ]
  },
  {
   "cell_type": "code",
   "execution_count": 49,
   "id": "1d9261cc",
   "metadata": {},
   "outputs": [
    {
     "data": {
      "text/plain": [
       "array([115755.75806346,  48165.96300997, 101728.90519854, 114868.45201873,\n",
       "        77236.6201794 , 110640.30596074,  65600.93203752, 152277.4929459 ,\n",
       "        92332.2342415 , 128546.28500864, 110315.43293276, 179436.80377919,\n",
       "       115968.49877423, 110315.43293276, 145803.16781827, 172288.12499542,\n",
       "        52278.31523938, 134527.80113223,  58922.6967375 ,  72344.01416382,\n",
       "       115968.49877423, 115968.49877423])"
      ]
     },
     "execution_count": 49,
     "metadata": {},
     "output_type": "execute_result"
    }
   ],
   "source": [
    "predt"
   ]
  },
  {
   "cell_type": "code",
   "execution_count": 50,
   "id": "ab9d32b1",
   "metadata": {},
   "outputs": [
    {
     "data": {
      "text/plain": [
       "8936.913986954203"
      ]
     },
     "execution_count": 50,
     "metadata": {},
     "output_type": "execute_result"
    }
   ],
   "source": [
    "np.sqrt(metrics.mean_squared_error(y_test,predt))"
   ]
  },
  {
   "cell_type": "code",
   "execution_count": 51,
   "id": "5a11237a",
   "metadata": {},
   "outputs": [
    {
     "data": {
      "text/plain": [
       "0.9496733185604666"
      ]
     },
     "execution_count": 51,
     "metadata": {},
     "output_type": "execute_result"
    }
   ],
   "source": [
    "metrics.r2_score(y_test,predt)"
   ]
  },
  {
   "cell_type": "markdown",
   "id": "4d5b04e3",
   "metadata": {},
   "source": [
    "# POLYNOMIAL REGRESSION"
   ]
  },
  {
   "cell_type": "code",
   "execution_count": 52,
   "id": "707fe3c5",
   "metadata": {},
   "outputs": [],
   "source": [
    "datav= pd.read_csv(\"C:/MLDATASETS/Position_Salaries.csv\")"
   ]
  },
  {
   "cell_type": "code",
   "execution_count": 53,
   "id": "d15ddd50",
   "metadata": {},
   "outputs": [
    {
     "data": {
      "text/html": [
       "<div>\n",
       "<style scoped>\n",
       "    .dataframe tbody tr th:only-of-type {\n",
       "        vertical-align: middle;\n",
       "    }\n",
       "\n",
       "    .dataframe tbody tr th {\n",
       "        vertical-align: top;\n",
       "    }\n",
       "\n",
       "    .dataframe thead th {\n",
       "        text-align: right;\n",
       "    }\n",
       "</style>\n",
       "<table border=\"1\" class=\"dataframe\">\n",
       "  <thead>\n",
       "    <tr style=\"text-align: right;\">\n",
       "      <th></th>\n",
       "      <th>Position</th>\n",
       "      <th>Level</th>\n",
       "      <th>Salary</th>\n",
       "    </tr>\n",
       "  </thead>\n",
       "  <tbody>\n",
       "    <tr>\n",
       "      <th>0</th>\n",
       "      <td>Business Analyst</td>\n",
       "      <td>1</td>\n",
       "      <td>45000</td>\n",
       "    </tr>\n",
       "    <tr>\n",
       "      <th>1</th>\n",
       "      <td>Junior Consultant</td>\n",
       "      <td>2</td>\n",
       "      <td>50000</td>\n",
       "    </tr>\n",
       "    <tr>\n",
       "      <th>2</th>\n",
       "      <td>Senior Consultant</td>\n",
       "      <td>3</td>\n",
       "      <td>60000</td>\n",
       "    </tr>\n",
       "    <tr>\n",
       "      <th>3</th>\n",
       "      <td>Manager</td>\n",
       "      <td>4</td>\n",
       "      <td>80000</td>\n",
       "    </tr>\n",
       "    <tr>\n",
       "      <th>4</th>\n",
       "      <td>Country Manager</td>\n",
       "      <td>5</td>\n",
       "      <td>110000</td>\n",
       "    </tr>\n",
       "    <tr>\n",
       "      <th>5</th>\n",
       "      <td>Region Manager</td>\n",
       "      <td>6</td>\n",
       "      <td>150000</td>\n",
       "    </tr>\n",
       "    <tr>\n",
       "      <th>6</th>\n",
       "      <td>Partner</td>\n",
       "      <td>7</td>\n",
       "      <td>200000</td>\n",
       "    </tr>\n",
       "    <tr>\n",
       "      <th>7</th>\n",
       "      <td>Senior Partner</td>\n",
       "      <td>8</td>\n",
       "      <td>300000</td>\n",
       "    </tr>\n",
       "    <tr>\n",
       "      <th>8</th>\n",
       "      <td>C-level</td>\n",
       "      <td>9</td>\n",
       "      <td>500000</td>\n",
       "    </tr>\n",
       "    <tr>\n",
       "      <th>9</th>\n",
       "      <td>CEO</td>\n",
       "      <td>10</td>\n",
       "      <td>1000000</td>\n",
       "    </tr>\n",
       "  </tbody>\n",
       "</table>\n",
       "</div>"
      ],
      "text/plain": [
       "            Position  Level   Salary\n",
       "0   Business Analyst      1    45000\n",
       "1  Junior Consultant      2    50000\n",
       "2  Senior Consultant      3    60000\n",
       "3            Manager      4    80000\n",
       "4    Country Manager      5   110000\n",
       "5     Region Manager      6   150000\n",
       "6            Partner      7   200000\n",
       "7     Senior Partner      8   300000\n",
       "8            C-level      9   500000\n",
       "9                CEO     10  1000000"
      ]
     },
     "execution_count": 53,
     "metadata": {},
     "output_type": "execute_result"
    }
   ],
   "source": [
    "datav"
   ]
  },
  {
   "cell_type": "code",
   "execution_count": 54,
   "id": "847bc382",
   "metadata": {},
   "outputs": [
    {
     "name": "stderr",
     "output_type": "stream",
     "text": [
      "C:\\Users\\sreev\\anaconda3\\lib\\site-packages\\seaborn\\_decorators.py:36: FutureWarning: Pass the following variables as keyword args: x, y. From version 0.12, the only valid positional argument will be `data`, and passing other arguments without an explicit keyword will result in an error or misinterpretation.\n",
      "  warnings.warn(\n"
     ]
    },
    {
     "data": {
      "text/plain": [
       "<AxesSubplot:xlabel='Level', ylabel='Salary'>"
      ]
     },
     "execution_count": 54,
     "metadata": {},
     "output_type": "execute_result"
    },
    {
     "data": {
      "image/png": "[encoded data removed]",
      "text/plain": [
       "<Figure size 432x288 with 1 Axes>"
      ]
     },
     "metadata": {
      "needs_background": "light"
     },
     "output_type": "display_data"
    }
   ],
   "source": [
    "sb.lineplot(datav['Level'],datav['Salary'])"
   ]
  },
  {
   "cell_type": "code",
   "execution_count": 55,
   "id": "3a8d836c",
   "metadata": {},
   "outputs": [],
   "source": [
    "datav['Position']=le.fit_transform(datav['Position'])"
   ]
  },
  {
   "cell_type": "code",
   "execution_count": 56,
   "id": "83e91ee9",
   "metadata": {},
   "outputs": [
    {
     "data": {
      "text/html": [
       "<div>\n",
       "<style scoped>\n",
       "    .dataframe tbody tr th:only-of-type {\n",
       "        vertical-align: middle;\n",
       "    }\n",
       "\n",
       "    .dataframe tbody tr th {\n",
       "        vertical-align: top;\n",
       "    }\n",
       "\n",
       "    .dataframe thead th {\n",
       "        text-align: right;\n",
       "    }\n",
       "</style>\n",
       "<table border=\"1\" class=\"dataframe\">\n",
       "  <thead>\n",
       "    <tr style=\"text-align: right;\">\n",
       "      <th></th>\n",
       "      <th>Position</th>\n",
       "      <th>Level</th>\n",
       "      <th>Salary</th>\n",
       "    </tr>\n",
       "  </thead>\n",
       "  <tbody>\n",
       "    <tr>\n",
       "      <th>0</th>\n",
       "      <td>0</td>\n",
       "      <td>1</td>\n",
       "      <td>45000</td>\n",
       "    </tr>\n",
       "    <tr>\n",
       "      <th>1</th>\n",
       "      <td>4</td>\n",
       "      <td>2</td>\n",
       "      <td>50000</td>\n",
       "    </tr>\n",
       "    <tr>\n",
       "      <th>2</th>\n",
       "      <td>8</td>\n",
       "      <td>3</td>\n",
       "      <td>60000</td>\n",
       "    </tr>\n",
       "    <tr>\n",
       "      <th>3</th>\n",
       "      <td>5</td>\n",
       "      <td>4</td>\n",
       "      <td>80000</td>\n",
       "    </tr>\n",
       "    <tr>\n",
       "      <th>4</th>\n",
       "      <td>3</td>\n",
       "      <td>5</td>\n",
       "      <td>110000</td>\n",
       "    </tr>\n",
       "  </tbody>\n",
       "</table>\n",
       "</div>"
      ],
      "text/plain": [
       "   Position  Level  Salary\n",
       "0         0      1   45000\n",
       "1         4      2   50000\n",
       "2         8      3   60000\n",
       "3         5      4   80000\n",
       "4         3      5  110000"
      ]
     },
     "execution_count": 56,
     "metadata": {},
     "output_type": "execute_result"
    }
   ],
   "source": [
    "datav.head()"
   ]
  },
  {
   "cell_type": "code",
   "execution_count": 57,
   "id": "f0adffb6",
   "metadata": {},
   "outputs": [
    {
     "name": "stderr",
     "output_type": "stream",
     "text": [
      "C:\\Users\\sreev\\anaconda3\\lib\\site-packages\\seaborn\\_decorators.py:36: FutureWarning: Pass the following variables as keyword args: x, y. From version 0.12, the only valid positional argument will be `data`, and passing other arguments without an explicit keyword will result in an error or misinterpretation.\n",
      "  warnings.warn(\n"
     ]
    },
    {
     "data": {
      "text/plain": [
       "<AxesSubplot:xlabel='Position', ylabel='Salary'>"
      ]
     },
     "execution_count": 57,
     "metadata": {},
     "output_type": "execute_result"
    },
    {
     "data": {
      "image/png": "[encoded data removed]",
      "text/plain": [
       "<Figure size 432x288 with 1 Axes>"
      ]
     },
     "metadata": {
      "needs_background": "light"
     },
     "output_type": "display_data"
    }
   ],
   "source": [
    "sb.lineplot(datav['Position'],datav['Salary'])"
   ]
  },
  {
   "cell_type": "code",
   "execution_count": 58,
   "id": "20671955",
   "metadata": {},
   "outputs": [],
   "source": [
    "datav.drop(columns=[\"Level\"],inplace=True)"
   ]
  },
  {
   "cell_type": "code",
   "execution_count": 59,
   "id": "4b7bcad8",
   "metadata": {},
   "outputs": [
    {
     "data": {
      "text/html": [
       "<div>\n",
       "<style scoped>\n",
       "    .dataframe tbody tr th:only-of-type {\n",
       "        vertical-align: middle;\n",
       "    }\n",
       "\n",
       "    .dataframe tbody tr th {\n",
       "        vertical-align: top;\n",
       "    }\n",
       "\n",
       "    .dataframe thead th {\n",
       "        text-align: right;\n",
       "    }\n",
       "</style>\n",
       "<table border=\"1\" class=\"dataframe\">\n",
       "  <thead>\n",
       "    <tr style=\"text-align: right;\">\n",
       "      <th></th>\n",
       "      <th>Position</th>\n",
       "      <th>Salary</th>\n",
       "    </tr>\n",
       "  </thead>\n",
       "  <tbody>\n",
       "    <tr>\n",
       "      <th>0</th>\n",
       "      <td>0</td>\n",
       "      <td>45000</td>\n",
       "    </tr>\n",
       "    <tr>\n",
       "      <th>1</th>\n",
       "      <td>4</td>\n",
       "      <td>50000</td>\n",
       "    </tr>\n",
       "    <tr>\n",
       "      <th>2</th>\n",
       "      <td>8</td>\n",
       "      <td>60000</td>\n",
       "    </tr>\n",
       "    <tr>\n",
       "      <th>3</th>\n",
       "      <td>5</td>\n",
       "      <td>80000</td>\n",
       "    </tr>\n",
       "    <tr>\n",
       "      <th>4</th>\n",
       "      <td>3</td>\n",
       "      <td>110000</td>\n",
       "    </tr>\n",
       "  </tbody>\n",
       "</table>\n",
       "</div>"
      ],
      "text/plain": [
       "   Position  Salary\n",
       "0         0   45000\n",
       "1         4   50000\n",
       "2         8   60000\n",
       "3         5   80000\n",
       "4         3  110000"
      ]
     },
     "execution_count": 59,
     "metadata": {},
     "output_type": "execute_result"
    }
   ],
   "source": [
    "datav.head()"
   ]
  },
  {
   "cell_type": "code",
   "execution_count": 65,
   "id": "50157649",
   "metadata": {},
   "outputs": [
    {
     "data": {
      "text/plain": [
       "array([[      0,   45000],\n",
       "       [      4,   50000],\n",
       "       [      8,   60000],\n",
       "       [      5,   80000],\n",
       "       [      3,  110000],\n",
       "       [      7,  150000],\n",
       "       [      6,  200000],\n",
       "       [      9,  300000],\n",
       "       [      1,  500000],\n",
       "       [      2, 1000000]], dtype=int64)"
      ]
     },
     "execution_count": 65,
     "metadata": {},
     "output_type": "execute_result"
    }
   ],
   "source": [
    "x=datav.iloc[:,1:2].values\n",
    "y=datav.iloc[:,:2].values\n",
    "y"
   ]
  },
  {
   "cell_type": "code",
   "execution_count": null,
   "id": "802d5554",
   "metadata": {},
   "outputs": [],
   "source": [
    "x=datav[\"Salary\"]\n",
    "y=datav[\"Position\"]"
   ]
  },
  {
   "cell_type": "markdown",
   "id": "80df7ea4",
   "metadata": {},
   "source": [
    "# CONVERT NORMAL FEATURES INTO POLYNOMIAL FEATURES"
   ]
  },
  {
   "cell_type": "code",
   "execution_count": null,
   "id": "fcc5d213",
   "metadata": {},
   "outputs": [],
   "source": [
    "#IMPORTING functions which will convert normal features to polynomial features\n",
    "from sklearn.preprocessing import PolynomialFeatures"
   ]
  },
  {
   "cell_type": "code",
   "execution_count": null,
   "id": "e09aa9fa",
   "metadata": {},
   "outputs": [],
   "source": [
    "from sklearn.linear_model import LinearRegression\n",
    "lin_reg = LinearRegression()\n",
    "lin_reg.fit(x,y)"
   ]
  },
  {
   "cell_type": "code",
   "execution_count": null,
   "id": "00deb933",
   "metadata": {},
   "outputs": [],
   "source": [
    "x_poly = PolynomialFeatures(degree=3)"
   ]
  },
  {
   "cell_type": "code",
   "execution_count": null,
   "id": "cc0600de",
   "metadata": {},
   "outputs": [],
   "source": [
    "x=pd.DataFrame(x,columns=[\"Position\"])"
   ]
  },
  {
   "cell_type": "code",
   "execution_count": null,
   "id": "ebd7d6c2",
   "metadata": {},
   "outputs": [],
   "source": [
    "x.shape"
   ]
  },
  {
   "cell_type": "code",
   "execution_count": null,
   "id": "d620ba3c",
   "metadata": {},
   "outputs": [],
   "source": [
    "x_values=x_poly.fit_transform(x)"
   ]
  },
  {
   "cell_type": "code",
   "execution_count": null,
   "id": "cb8acb3a",
   "metadata": {},
   "outputs": [],
   "source": []
  }
 ],
 "metadata": {
  "kernelspec": {
   "display_name": "Python 3 (ipykernel)",
   "language": "python",
   "name": "python3"
  },
  "language_info": {
   "codemirror_mode": {
    "name": "ipython",
    "version": 3
   },
   "file_extension": ".py",
   "mimetype": "text/x-python",
   "name": "python",
   "nbconvert_exporter": "python",
   "pygments_lexer": "ipython3",
   "version": "3.9.7"
  }
 },
 "nbformat": 4,
 "nbformat_minor": 5
}
